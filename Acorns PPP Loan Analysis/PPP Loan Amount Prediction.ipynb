{
 "cells": [
  {
   "cell_type": "code",
   "execution_count": 15,
   "id": "30363412",
   "metadata": {},
   "outputs": [],
   "source": [
    "import numpy as np\n",
    "import pandas as pd\n",
    "import datetime as dt\n",
    "from sklearn import metrics\n",
    "import matplotlib.pyplot as plt\n",
    "import seaborn as sns"
   ]
  },
  {
   "cell_type": "code",
   "execution_count": 16,
   "id": "f3773f4a",
   "metadata": {},
   "outputs": [],
   "source": [
    "from sklearn.linear_model import LinearRegression\n",
    "from sklearn.model_selection import train_test_split\n",
    "import statsmodels.api as sm\n",
    "from statsmodels.stats.outliers_influence import variance_inflation_factor\n",
    "from sklearn.preprocessing import StandardScaler\n",
    "from sklearn.preprocessing import MinMaxScaler\n",
    "from sklearn.feature_selection import f_regression\n",
    "\n",
    "from sklearn.decomposition import PCA\n",
    "from sklearn.preprocessing import StandardScaler"
   ]
  },
  {
   "cell_type": "code",
   "execution_count": 4,
   "id": "a2f32eba",
   "metadata": {},
   "outputs": [],
   "source": [
    "ppp = pd.read_csv('ppp_dataframe.csv')"
   ]
  },
  {
   "cell_type": "code",
   "execution_count": 5,
   "id": "0bf791c0",
   "metadata": {},
   "outputs": [
    {
     "data": {
      "text/plain": [
       "Index(['CountyID', 'Total Establishments', 'Labor_Force', 'Unemployment Rate',\n",
       "       'Commuter Ratio', 'Average Weekly Wages', 'Total Pop',\n",
       "       'Avg Total Working Adults/House', 'Self-Employment as % of Workforce',\n",
       "       'Non-Employer Establishments as % of All Establishments', '101', '1011',\n",
       "       '1012', '1013', '102', '1021', '1022', '1023', '1024', '1025', '1026',\n",
       "       '1027', '1028', '1029', '11', '21', '22', '23', '31-33', '42', '51',\n",
       "       '53', '54', '56', '61', '62', '71', '72', '81', '92', '99',\n",
       "       '% of Total Population in the Labor Force', 'March Employment Numbers',\n",
       "       'Jobs_Lost', 'April_Jobs', 'Job_Loss_Ratio', 'Number of Loans Received',\n",
       "       'Total Amt of Loans Received'],\n",
       "      dtype='object')"
      ]
     },
     "execution_count": 5,
     "metadata": {},
     "output_type": "execute_result"
    }
   ],
   "source": [
    "ppp.columns"
   ]
  },
  {
   "cell_type": "code",
   "execution_count": 9,
   "id": "b0928cbb",
   "metadata": {},
   "outputs": [],
   "source": [
    "ppp['NEE/Workforce'] = ppp['Non-Employer Establishments as % of All Establishments'] * ppp['Total Establishments']/(ppp['Non-Employer Establishments as % of All Establishments'] * ppp['Total Establishments'] + ppp['March Employment Numbers'])\n"
   ]
  },
  {
   "cell_type": "code",
   "execution_count": 10,
   "id": "04a4b6b1",
   "metadata": {
    "scrolled": true
   },
   "outputs": [
    {
     "data": {
      "text/html": [
       "<div>\n",
       "<style scoped>\n",
       "    .dataframe tbody tr th:only-of-type {\n",
       "        vertical-align: middle;\n",
       "    }\n",
       "\n",
       "    .dataframe tbody tr th {\n",
       "        vertical-align: top;\n",
       "    }\n",
       "\n",
       "    .dataframe thead th {\n",
       "        text-align: right;\n",
       "    }\n",
       "</style>\n",
       "<table border=\"1\" class=\"dataframe\">\n",
       "  <thead>\n",
       "    <tr style=\"text-align: right;\">\n",
       "      <th></th>\n",
       "      <th>CountyID</th>\n",
       "      <th>Total Establishments</th>\n",
       "      <th>Labor_Force</th>\n",
       "      <th>Unemployment Rate</th>\n",
       "      <th>Commuter Ratio</th>\n",
       "      <th>Average Weekly Wages</th>\n",
       "      <th>Total Pop</th>\n",
       "      <th>Avg Total Working Adults/House</th>\n",
       "      <th>Self-Employment as % of Workforce</th>\n",
       "      <th>Non-Employer Establishments as % of All Establishments</th>\n",
       "      <th>...</th>\n",
       "      <th>92</th>\n",
       "      <th>99</th>\n",
       "      <th>% of Total Population in the Labor Force</th>\n",
       "      <th>March Employment Numbers</th>\n",
       "      <th>Jobs_Lost</th>\n",
       "      <th>April_Jobs</th>\n",
       "      <th>Job_Loss_Ratio</th>\n",
       "      <th>Number of Loans Received</th>\n",
       "      <th>Total Amt of Loans Received</th>\n",
       "      <th>NEE/Workforce</th>\n",
       "    </tr>\n",
       "  </thead>\n",
       "  <tbody>\n",
       "    <tr>\n",
       "      <th>0</th>\n",
       "      <td>13001</td>\n",
       "      <td>437</td>\n",
       "      <td>9574.0</td>\n",
       "      <td>3.7</td>\n",
       "      <td>0.761574</td>\n",
       "      <td>1241</td>\n",
       "      <td>18440</td>\n",
       "      <td>1.74</td>\n",
       "      <td>0.128298</td>\n",
       "      <td>0.728545</td>\n",
       "      <td>...</td>\n",
       "      <td>0.018117</td>\n",
       "      <td>0.002376</td>\n",
       "      <td>0.519197</td>\n",
       "      <td>7024</td>\n",
       "      <td>441</td>\n",
       "      <td>6583</td>\n",
       "      <td>0.062785</td>\n",
       "      <td>776</td>\n",
       "      <td>3.791913e+07</td>\n",
       "      <td>0.043361</td>\n",
       "    </tr>\n",
       "    <tr>\n",
       "      <th>1</th>\n",
       "      <td>13003</td>\n",
       "      <td>125</td>\n",
       "      <td>4584.0</td>\n",
       "      <td>3.2</td>\n",
       "      <td>0.502479</td>\n",
       "      <td>712</td>\n",
       "      <td>8239</td>\n",
       "      <td>1.81</td>\n",
       "      <td>0.125266</td>\n",
       "      <td>0.818444</td>\n",
       "      <td>...</td>\n",
       "      <td>0.018684</td>\n",
       "      <td>0.000406</td>\n",
       "      <td>0.556378</td>\n",
       "      <td>2230</td>\n",
       "      <td>223</td>\n",
       "      <td>2007</td>\n",
       "      <td>0.100000</td>\n",
       "      <td>387</td>\n",
       "      <td>1.850347e+07</td>\n",
       "      <td>0.043865</td>\n",
       "    </tr>\n",
       "    <tr>\n",
       "      <th>2</th>\n",
       "      <td>13005</td>\n",
       "      <td>270</td>\n",
       "      <td>4928.0</td>\n",
       "      <td>3.7</td>\n",
       "      <td>0.775601</td>\n",
       "      <td>700</td>\n",
       "      <td>11201</td>\n",
       "      <td>1.83</td>\n",
       "      <td>0.129900</td>\n",
       "      <td>0.700552</td>\n",
       "      <td>...</td>\n",
       "      <td>0.002428</td>\n",
       "      <td>0.000000</td>\n",
       "      <td>0.439961</td>\n",
       "      <td>3681</td>\n",
       "      <td>-46</td>\n",
       "      <td>3727</td>\n",
       "      <td>-0.012497</td>\n",
       "      <td>589</td>\n",
       "      <td>2.577633e+07</td>\n",
       "      <td>0.048874</td>\n",
       "    </tr>\n",
       "    <tr>\n",
       "      <th>3</th>\n",
       "      <td>13007</td>\n",
       "      <td>63</td>\n",
       "      <td>1229.0</td>\n",
       "      <td>4.4</td>\n",
       "      <td>0.373617</td>\n",
       "      <td>714</td>\n",
       "      <td>3132</td>\n",
       "      <td>1.36</td>\n",
       "      <td>0.164512</td>\n",
       "      <td>0.756863</td>\n",
       "      <td>...</td>\n",
       "      <td>0.010941</td>\n",
       "      <td>0.008753</td>\n",
       "      <td>0.392401</td>\n",
       "      <td>439</td>\n",
       "      <td>7</td>\n",
       "      <td>432</td>\n",
       "      <td>0.015945</td>\n",
       "      <td>189</td>\n",
       "      <td>4.090794e+06</td>\n",
       "      <td>0.097974</td>\n",
       "    </tr>\n",
       "    <tr>\n",
       "      <th>4</th>\n",
       "      <td>13009</td>\n",
       "      <td>859</td>\n",
       "      <td>18253.0</td>\n",
       "      <td>4.3</td>\n",
       "      <td>0.899468</td>\n",
       "      <td>677</td>\n",
       "      <td>45111</td>\n",
       "      <td>1.95</td>\n",
       "      <td>0.180389</td>\n",
       "      <td>0.788138</td>\n",
       "      <td>...</td>\n",
       "      <td>0.027431</td>\n",
       "      <td>0.001610</td>\n",
       "      <td>0.404624</td>\n",
       "      <td>15720</td>\n",
       "      <td>1485</td>\n",
       "      <td>14235</td>\n",
       "      <td>0.094466</td>\n",
       "      <td>1821</td>\n",
       "      <td>5.967474e+07</td>\n",
       "      <td>0.041289</td>\n",
       "    </tr>\n",
       "    <tr>\n",
       "      <th>...</th>\n",
       "      <td>...</td>\n",
       "      <td>...</td>\n",
       "      <td>...</td>\n",
       "      <td>...</td>\n",
       "      <td>...</td>\n",
       "      <td>...</td>\n",
       "      <td>...</td>\n",
       "      <td>...</td>\n",
       "      <td>...</td>\n",
       "      <td>...</td>\n",
       "      <td>...</td>\n",
       "      <td>...</td>\n",
       "      <td>...</td>\n",
       "      <td>...</td>\n",
       "      <td>...</td>\n",
       "      <td>...</td>\n",
       "      <td>...</td>\n",
       "      <td>...</td>\n",
       "      <td>...</td>\n",
       "      <td>...</td>\n",
       "      <td>...</td>\n",
       "    </tr>\n",
       "    <tr>\n",
       "      <th>154</th>\n",
       "      <td>13313</td>\n",
       "      <td>2340</td>\n",
       "      <td>44176.0</td>\n",
       "      <td>3.9</td>\n",
       "      <td>1.333828</td>\n",
       "      <td>900</td>\n",
       "      <td>104237</td>\n",
       "      <td>1.87</td>\n",
       "      <td>0.139889</td>\n",
       "      <td>0.722327</td>\n",
       "      <td>...</td>\n",
       "      <td>0.010449</td>\n",
       "      <td>0.001226</td>\n",
       "      <td>0.423803</td>\n",
       "      <td>56653</td>\n",
       "      <td>8868</td>\n",
       "      <td>47785</td>\n",
       "      <td>0.156532</td>\n",
       "      <td>2311</td>\n",
       "      <td>2.210168e+08</td>\n",
       "      <td>0.028971</td>\n",
       "    </tr>\n",
       "    <tr>\n",
       "      <th>155</th>\n",
       "      <td>13315</td>\n",
       "      <td>110</td>\n",
       "      <td>2825.0</td>\n",
       "      <td>3.9</td>\n",
       "      <td>0.418939</td>\n",
       "      <td>618</td>\n",
       "      <td>8824</td>\n",
       "      <td>2.36</td>\n",
       "      <td>0.196286</td>\n",
       "      <td>0.824806</td>\n",
       "      <td>...</td>\n",
       "      <td>0.005440</td>\n",
       "      <td>0.001813</td>\n",
       "      <td>0.320150</td>\n",
       "      <td>1137</td>\n",
       "      <td>36</td>\n",
       "      <td>1101</td>\n",
       "      <td>0.031662</td>\n",
       "      <td>435</td>\n",
       "      <td>8.267156e+06</td>\n",
       "      <td>0.073900</td>\n",
       "    </tr>\n",
       "    <tr>\n",
       "      <th>156</th>\n",
       "      <td>13317</td>\n",
       "      <td>239</td>\n",
       "      <td>3826.0</td>\n",
       "      <td>5.5</td>\n",
       "      <td>0.727122</td>\n",
       "      <td>669</td>\n",
       "      <td>9844</td>\n",
       "      <td>1.53</td>\n",
       "      <td>0.172047</td>\n",
       "      <td>0.731762</td>\n",
       "      <td>...</td>\n",
       "      <td>0.030022</td>\n",
       "      <td>0.000000</td>\n",
       "      <td>0.388663</td>\n",
       "      <td>2630</td>\n",
       "      <td>210</td>\n",
       "      <td>2420</td>\n",
       "      <td>0.079848</td>\n",
       "      <td>400</td>\n",
       "      <td>1.986119e+07</td>\n",
       "      <td>0.062352</td>\n",
       "    </tr>\n",
       "    <tr>\n",
       "      <th>157</th>\n",
       "      <td>13319</td>\n",
       "      <td>171</td>\n",
       "      <td>3984.0</td>\n",
       "      <td>3.6</td>\n",
       "      <td>0.901067</td>\n",
       "      <td>807</td>\n",
       "      <td>9010</td>\n",
       "      <td>1.79</td>\n",
       "      <td>0.164576</td>\n",
       "      <td>0.794994</td>\n",
       "      <td>...</td>\n",
       "      <td>0.000273</td>\n",
       "      <td>0.000000</td>\n",
       "      <td>0.442175</td>\n",
       "      <td>3461</td>\n",
       "      <td>416</td>\n",
       "      <td>3045</td>\n",
       "      <td>0.120196</td>\n",
       "      <td>380</td>\n",
       "      <td>1.748327e+07</td>\n",
       "      <td>0.037794</td>\n",
       "    </tr>\n",
       "    <tr>\n",
       "      <th>158</th>\n",
       "      <td>13321</td>\n",
       "      <td>306</td>\n",
       "      <td>9315.0</td>\n",
       "      <td>3.7</td>\n",
       "      <td>0.338535</td>\n",
       "      <td>671</td>\n",
       "      <td>20494</td>\n",
       "      <td>1.63</td>\n",
       "      <td>0.148241</td>\n",
       "      <td>0.815505</td>\n",
       "      <td>...</td>\n",
       "      <td>0.040320</td>\n",
       "      <td>0.000000</td>\n",
       "      <td>0.454523</td>\n",
       "      <td>3037</td>\n",
       "      <td>213</td>\n",
       "      <td>2824</td>\n",
       "      <td>0.070135</td>\n",
       "      <td>758</td>\n",
       "      <td>1.866356e+07</td>\n",
       "      <td>0.075929</td>\n",
       "    </tr>\n",
       "  </tbody>\n",
       "</table>\n",
       "<p>159 rows × 49 columns</p>\n",
       "</div>"
      ],
      "text/plain": [
       "     CountyID  Total Establishments  Labor_Force  Unemployment Rate  \\\n",
       "0       13001                   437       9574.0                3.7   \n",
       "1       13003                   125       4584.0                3.2   \n",
       "2       13005                   270       4928.0                3.7   \n",
       "3       13007                    63       1229.0                4.4   \n",
       "4       13009                   859      18253.0                4.3   \n",
       "..        ...                   ...          ...                ...   \n",
       "154     13313                  2340      44176.0                3.9   \n",
       "155     13315                   110       2825.0                3.9   \n",
       "156     13317                   239       3826.0                5.5   \n",
       "157     13319                   171       3984.0                3.6   \n",
       "158     13321                   306       9315.0                3.7   \n",
       "\n",
       "     Commuter Ratio  Average Weekly Wages  Total Pop  \\\n",
       "0          0.761574                  1241      18440   \n",
       "1          0.502479                   712       8239   \n",
       "2          0.775601                   700      11201   \n",
       "3          0.373617                   714       3132   \n",
       "4          0.899468                   677      45111   \n",
       "..              ...                   ...        ...   \n",
       "154        1.333828                   900     104237   \n",
       "155        0.418939                   618       8824   \n",
       "156        0.727122                   669       9844   \n",
       "157        0.901067                   807       9010   \n",
       "158        0.338535                   671      20494   \n",
       "\n",
       "     Avg Total Working Adults/House  Self-Employment as % of Workforce  \\\n",
       "0                              1.74                           0.128298   \n",
       "1                              1.81                           0.125266   \n",
       "2                              1.83                           0.129900   \n",
       "3                              1.36                           0.164512   \n",
       "4                              1.95                           0.180389   \n",
       "..                              ...                                ...   \n",
       "154                            1.87                           0.139889   \n",
       "155                            2.36                           0.196286   \n",
       "156                            1.53                           0.172047   \n",
       "157                            1.79                           0.164576   \n",
       "158                            1.63                           0.148241   \n",
       "\n",
       "     Non-Employer Establishments as % of All Establishments  ...        92  \\\n",
       "0                                             0.728545       ...  0.018117   \n",
       "1                                             0.818444       ...  0.018684   \n",
       "2                                             0.700552       ...  0.002428   \n",
       "3                                             0.756863       ...  0.010941   \n",
       "4                                             0.788138       ...  0.027431   \n",
       "..                                                 ...       ...       ...   \n",
       "154                                           0.722327       ...  0.010449   \n",
       "155                                           0.824806       ...  0.005440   \n",
       "156                                           0.731762       ...  0.030022   \n",
       "157                                           0.794994       ...  0.000273   \n",
       "158                                           0.815505       ...  0.040320   \n",
       "\n",
       "           99  % of Total Population in the Labor Force  \\\n",
       "0    0.002376                                  0.519197   \n",
       "1    0.000406                                  0.556378   \n",
       "2    0.000000                                  0.439961   \n",
       "3    0.008753                                  0.392401   \n",
       "4    0.001610                                  0.404624   \n",
       "..        ...                                       ...   \n",
       "154  0.001226                                  0.423803   \n",
       "155  0.001813                                  0.320150   \n",
       "156  0.000000                                  0.388663   \n",
       "157  0.000000                                  0.442175   \n",
       "158  0.000000                                  0.454523   \n",
       "\n",
       "     March Employment Numbers  Jobs_Lost  April_Jobs  Job_Loss_Ratio  \\\n",
       "0                        7024        441        6583        0.062785   \n",
       "1                        2230        223        2007        0.100000   \n",
       "2                        3681        -46        3727       -0.012497   \n",
       "3                         439          7         432        0.015945   \n",
       "4                       15720       1485       14235        0.094466   \n",
       "..                        ...        ...         ...             ...   \n",
       "154                     56653       8868       47785        0.156532   \n",
       "155                      1137         36        1101        0.031662   \n",
       "156                      2630        210        2420        0.079848   \n",
       "157                      3461        416        3045        0.120196   \n",
       "158                      3037        213        2824        0.070135   \n",
       "\n",
       "     Number of Loans Received  Total Amt of Loans Received  NEE/Workforce  \n",
       "0                         776                 3.791913e+07       0.043361  \n",
       "1                         387                 1.850347e+07       0.043865  \n",
       "2                         589                 2.577633e+07       0.048874  \n",
       "3                         189                 4.090794e+06       0.097974  \n",
       "4                        1821                 5.967474e+07       0.041289  \n",
       "..                        ...                          ...            ...  \n",
       "154                      2311                 2.210168e+08       0.028971  \n",
       "155                       435                 8.267156e+06       0.073900  \n",
       "156                       400                 1.986119e+07       0.062352  \n",
       "157                       380                 1.748327e+07       0.037794  \n",
       "158                       758                 1.866356e+07       0.075929  \n",
       "\n",
       "[159 rows x 49 columns]"
      ]
     },
     "execution_count": 10,
     "metadata": {},
     "output_type": "execute_result"
    }
   ],
   "source": [
    "ppp"
   ]
  },
  {
   "cell_type": "code",
   "execution_count": 19,
   "id": "585bdcb1",
   "metadata": {},
   "outputs": [],
   "source": [
    "y = ppp['Total Amt of Loans Received']"
   ]
  },
  {
   "cell_type": "code",
   "execution_count": 105,
   "id": "4714cb04",
   "metadata": {},
   "outputs": [],
   "source": [
    "x1 = ppp[['March Employment Numbers']]"
   ]
  },
  {
   "cell_type": "code",
   "execution_count": 106,
   "id": "b09371be",
   "metadata": {},
   "outputs": [
    {
     "data": {
      "text/plain": [
       "0.9877193034446502"
      ]
     },
     "execution_count": 106,
     "metadata": {},
     "output_type": "execute_result"
    }
   ],
   "source": [
    "slr = LinearRegression().fit(x1, y)\n",
    "slr_r2 = slr.score(x1, y)\n",
    "adj_r2_baseline = 1 - (1-slr_r2)*(len(y)-1)/(len(y)-x1.shape[1]-1)\n",
    "adj_r2_baseline"
   ]
  },
  {
   "cell_type": "code",
   "execution_count": 20,
   "id": "d681e45d",
   "metadata": {},
   "outputs": [],
   "source": [
    "x4 = ppp[['March Employment Numbers', 'NEE/Workforce']]\n",
    "baseline_model_current = LinearRegression().fit(x4, y)"
   ]
  },
  {
   "cell_type": "code",
   "execution_count": 21,
   "id": "f98f3b68",
   "metadata": {},
   "outputs": [],
   "source": [
    "baseline_r2 = baseline_model_current.score(x4, y)\n",
    "baseline_pred = baseline_model_current.predict(x4)\n",
    "baseline_mape = metrics.mean_absolute_percentage_error(y, baseline_pred)"
   ]
  },
  {
   "cell_type": "code",
   "execution_count": 22,
   "id": "9f229f54",
   "metadata": {},
   "outputs": [
    {
     "data": {
      "text/plain": [
       "1.5954891186641886"
      ]
     },
     "execution_count": 22,
     "metadata": {},
     "output_type": "execute_result"
    }
   ],
   "source": [
    "baseline_mape"
   ]
  },
  {
   "cell_type": "code",
   "execution_count": 23,
   "id": "44396411",
   "metadata": {},
   "outputs": [
    {
     "data": {
      "text/plain": [
       "0.9896609499544948"
      ]
     },
     "execution_count": 23,
     "metadata": {},
     "output_type": "execute_result"
    }
   ],
   "source": [
    "baseline_r2\n",
    "adj_r2_baseline = 1 - (1-baseline_r2)*(len(y)-1)/(len(y)-x4.shape[1]-1)\n",
    "adj_r2_baseline"
   ]
  },
  {
   "cell_type": "code",
   "execution_count": 24,
   "id": "b38ab7a7",
   "metadata": {},
   "outputs": [],
   "source": [
    "x5 = ppp[['March Employment Numbers', 'NEE/Workforce', 'Average Weekly Wages']]\n",
    "model_plus_wages = LinearRegression().fit(x5, y)"
   ]
  },
  {
   "cell_type": "code",
   "execution_count": 25,
   "id": "2733a34f",
   "metadata": {},
   "outputs": [],
   "source": [
    "new_r2 = model_plus_wages.score(x5, y)\n",
    "new_pred = model_plus_wages.predict(x5)\n",
    "new_mape = metrics.mean_absolute_percentage_error(y, new_pred)"
   ]
  },
  {
   "cell_type": "code",
   "execution_count": 26,
   "id": "b2aeaa26",
   "metadata": {},
   "outputs": [
    {
     "data": {
      "text/plain": [
       "0.9895992016843891"
      ]
     },
     "execution_count": 26,
     "metadata": {},
     "output_type": "execute_result"
    }
   ],
   "source": [
    "new_adj_r2 = 1 - (1-new_r2)*(len(y)-1)/(len(y)-x5.shape[1]-1)\n",
    "new_adj_r2"
   ]
  },
  {
   "cell_type": "code",
   "execution_count": 27,
   "id": "0b14f98c",
   "metadata": {},
   "outputs": [
    {
     "data": {
      "text/plain": [
       "1.6023652794920893"
      ]
     },
     "execution_count": 27,
     "metadata": {},
     "output_type": "execute_result"
    }
   ],
   "source": [
    "new_mape"
   ]
  },
  {
   "cell_type": "code",
   "execution_count": 28,
   "id": "37b1a24c",
   "metadata": {},
   "outputs": [
    {
     "data": {
      "text/html": [
       "<div>\n",
       "<style scoped>\n",
       "    .dataframe tbody tr th:only-of-type {\n",
       "        vertical-align: middle;\n",
       "    }\n",
       "\n",
       "    .dataframe tbody tr th {\n",
       "        vertical-align: top;\n",
       "    }\n",
       "\n",
       "    .dataframe thead th {\n",
       "        text-align: right;\n",
       "    }\n",
       "</style>\n",
       "<table border=\"1\" class=\"dataframe\">\n",
       "  <thead>\n",
       "    <tr style=\"text-align: right;\">\n",
       "      <th></th>\n",
       "      <th>CountyID</th>\n",
       "      <th>Total Establishments</th>\n",
       "      <th>Labor_Force</th>\n",
       "      <th>Unemployment Rate</th>\n",
       "      <th>Commuter Ratio</th>\n",
       "      <th>Average Weekly Wages</th>\n",
       "      <th>Total Pop</th>\n",
       "      <th>Avg Total Working Adults/House</th>\n",
       "      <th>Self-Employment as % of Workforce</th>\n",
       "      <th>Non-Employer Establishments as % of All Establishments</th>\n",
       "      <th>...</th>\n",
       "      <th>92</th>\n",
       "      <th>99</th>\n",
       "      <th>% of Total Population in the Labor Force</th>\n",
       "      <th>March Employment Numbers</th>\n",
       "      <th>Jobs_Lost</th>\n",
       "      <th>April_Jobs</th>\n",
       "      <th>Job_Loss_Ratio</th>\n",
       "      <th>Number of Loans Received</th>\n",
       "      <th>Total Amt of Loans Received</th>\n",
       "      <th>NEE/Workforce</th>\n",
       "    </tr>\n",
       "  </thead>\n",
       "  <tbody>\n",
       "    <tr>\n",
       "      <th>0</th>\n",
       "      <td>13001</td>\n",
       "      <td>437</td>\n",
       "      <td>9574.0</td>\n",
       "      <td>3.7</td>\n",
       "      <td>0.761574</td>\n",
       "      <td>1241</td>\n",
       "      <td>18440</td>\n",
       "      <td>1.74</td>\n",
       "      <td>0.128298</td>\n",
       "      <td>0.728545</td>\n",
       "      <td>...</td>\n",
       "      <td>0.018117</td>\n",
       "      <td>0.002376</td>\n",
       "      <td>0.519197</td>\n",
       "      <td>7024</td>\n",
       "      <td>441</td>\n",
       "      <td>6583</td>\n",
       "      <td>0.062785</td>\n",
       "      <td>776</td>\n",
       "      <td>3.791913e+07</td>\n",
       "      <td>0.043361</td>\n",
       "    </tr>\n",
       "    <tr>\n",
       "      <th>1</th>\n",
       "      <td>13003</td>\n",
       "      <td>125</td>\n",
       "      <td>4584.0</td>\n",
       "      <td>3.2</td>\n",
       "      <td>0.502479</td>\n",
       "      <td>712</td>\n",
       "      <td>8239</td>\n",
       "      <td>1.81</td>\n",
       "      <td>0.125266</td>\n",
       "      <td>0.818444</td>\n",
       "      <td>...</td>\n",
       "      <td>0.018684</td>\n",
       "      <td>0.000406</td>\n",
       "      <td>0.556378</td>\n",
       "      <td>2230</td>\n",
       "      <td>223</td>\n",
       "      <td>2007</td>\n",
       "      <td>0.100000</td>\n",
       "      <td>387</td>\n",
       "      <td>1.850347e+07</td>\n",
       "      <td>0.043865</td>\n",
       "    </tr>\n",
       "    <tr>\n",
       "      <th>2</th>\n",
       "      <td>13005</td>\n",
       "      <td>270</td>\n",
       "      <td>4928.0</td>\n",
       "      <td>3.7</td>\n",
       "      <td>0.775601</td>\n",
       "      <td>700</td>\n",
       "      <td>11201</td>\n",
       "      <td>1.83</td>\n",
       "      <td>0.129900</td>\n",
       "      <td>0.700552</td>\n",
       "      <td>...</td>\n",
       "      <td>0.002428</td>\n",
       "      <td>0.000000</td>\n",
       "      <td>0.439961</td>\n",
       "      <td>3681</td>\n",
       "      <td>-46</td>\n",
       "      <td>3727</td>\n",
       "      <td>-0.012497</td>\n",
       "      <td>589</td>\n",
       "      <td>2.577633e+07</td>\n",
       "      <td>0.048874</td>\n",
       "    </tr>\n",
       "    <tr>\n",
       "      <th>3</th>\n",
       "      <td>13007</td>\n",
       "      <td>63</td>\n",
       "      <td>1229.0</td>\n",
       "      <td>4.4</td>\n",
       "      <td>0.373617</td>\n",
       "      <td>714</td>\n",
       "      <td>3132</td>\n",
       "      <td>1.36</td>\n",
       "      <td>0.164512</td>\n",
       "      <td>0.756863</td>\n",
       "      <td>...</td>\n",
       "      <td>0.010941</td>\n",
       "      <td>0.008753</td>\n",
       "      <td>0.392401</td>\n",
       "      <td>439</td>\n",
       "      <td>7</td>\n",
       "      <td>432</td>\n",
       "      <td>0.015945</td>\n",
       "      <td>189</td>\n",
       "      <td>4.090794e+06</td>\n",
       "      <td>0.097974</td>\n",
       "    </tr>\n",
       "    <tr>\n",
       "      <th>4</th>\n",
       "      <td>13009</td>\n",
       "      <td>859</td>\n",
       "      <td>18253.0</td>\n",
       "      <td>4.3</td>\n",
       "      <td>0.899468</td>\n",
       "      <td>677</td>\n",
       "      <td>45111</td>\n",
       "      <td>1.95</td>\n",
       "      <td>0.180389</td>\n",
       "      <td>0.788138</td>\n",
       "      <td>...</td>\n",
       "      <td>0.027431</td>\n",
       "      <td>0.001610</td>\n",
       "      <td>0.404624</td>\n",
       "      <td>15720</td>\n",
       "      <td>1485</td>\n",
       "      <td>14235</td>\n",
       "      <td>0.094466</td>\n",
       "      <td>1821</td>\n",
       "      <td>5.967474e+07</td>\n",
       "      <td>0.041289</td>\n",
       "    </tr>\n",
       "    <tr>\n",
       "      <th>...</th>\n",
       "      <td>...</td>\n",
       "      <td>...</td>\n",
       "      <td>...</td>\n",
       "      <td>...</td>\n",
       "      <td>...</td>\n",
       "      <td>...</td>\n",
       "      <td>...</td>\n",
       "      <td>...</td>\n",
       "      <td>...</td>\n",
       "      <td>...</td>\n",
       "      <td>...</td>\n",
       "      <td>...</td>\n",
       "      <td>...</td>\n",
       "      <td>...</td>\n",
       "      <td>...</td>\n",
       "      <td>...</td>\n",
       "      <td>...</td>\n",
       "      <td>...</td>\n",
       "      <td>...</td>\n",
       "      <td>...</td>\n",
       "      <td>...</td>\n",
       "    </tr>\n",
       "    <tr>\n",
       "      <th>154</th>\n",
       "      <td>13313</td>\n",
       "      <td>2340</td>\n",
       "      <td>44176.0</td>\n",
       "      <td>3.9</td>\n",
       "      <td>1.333828</td>\n",
       "      <td>900</td>\n",
       "      <td>104237</td>\n",
       "      <td>1.87</td>\n",
       "      <td>0.139889</td>\n",
       "      <td>0.722327</td>\n",
       "      <td>...</td>\n",
       "      <td>0.010449</td>\n",
       "      <td>0.001226</td>\n",
       "      <td>0.423803</td>\n",
       "      <td>56653</td>\n",
       "      <td>8868</td>\n",
       "      <td>47785</td>\n",
       "      <td>0.156532</td>\n",
       "      <td>2311</td>\n",
       "      <td>2.210168e+08</td>\n",
       "      <td>0.028971</td>\n",
       "    </tr>\n",
       "    <tr>\n",
       "      <th>155</th>\n",
       "      <td>13315</td>\n",
       "      <td>110</td>\n",
       "      <td>2825.0</td>\n",
       "      <td>3.9</td>\n",
       "      <td>0.418939</td>\n",
       "      <td>618</td>\n",
       "      <td>8824</td>\n",
       "      <td>2.36</td>\n",
       "      <td>0.196286</td>\n",
       "      <td>0.824806</td>\n",
       "      <td>...</td>\n",
       "      <td>0.005440</td>\n",
       "      <td>0.001813</td>\n",
       "      <td>0.320150</td>\n",
       "      <td>1137</td>\n",
       "      <td>36</td>\n",
       "      <td>1101</td>\n",
       "      <td>0.031662</td>\n",
       "      <td>435</td>\n",
       "      <td>8.267156e+06</td>\n",
       "      <td>0.073900</td>\n",
       "    </tr>\n",
       "    <tr>\n",
       "      <th>156</th>\n",
       "      <td>13317</td>\n",
       "      <td>239</td>\n",
       "      <td>3826.0</td>\n",
       "      <td>5.5</td>\n",
       "      <td>0.727122</td>\n",
       "      <td>669</td>\n",
       "      <td>9844</td>\n",
       "      <td>1.53</td>\n",
       "      <td>0.172047</td>\n",
       "      <td>0.731762</td>\n",
       "      <td>...</td>\n",
       "      <td>0.030022</td>\n",
       "      <td>0.000000</td>\n",
       "      <td>0.388663</td>\n",
       "      <td>2630</td>\n",
       "      <td>210</td>\n",
       "      <td>2420</td>\n",
       "      <td>0.079848</td>\n",
       "      <td>400</td>\n",
       "      <td>1.986119e+07</td>\n",
       "      <td>0.062352</td>\n",
       "    </tr>\n",
       "    <tr>\n",
       "      <th>157</th>\n",
       "      <td>13319</td>\n",
       "      <td>171</td>\n",
       "      <td>3984.0</td>\n",
       "      <td>3.6</td>\n",
       "      <td>0.901067</td>\n",
       "      <td>807</td>\n",
       "      <td>9010</td>\n",
       "      <td>1.79</td>\n",
       "      <td>0.164576</td>\n",
       "      <td>0.794994</td>\n",
       "      <td>...</td>\n",
       "      <td>0.000273</td>\n",
       "      <td>0.000000</td>\n",
       "      <td>0.442175</td>\n",
       "      <td>3461</td>\n",
       "      <td>416</td>\n",
       "      <td>3045</td>\n",
       "      <td>0.120196</td>\n",
       "      <td>380</td>\n",
       "      <td>1.748327e+07</td>\n",
       "      <td>0.037794</td>\n",
       "    </tr>\n",
       "    <tr>\n",
       "      <th>158</th>\n",
       "      <td>13321</td>\n",
       "      <td>306</td>\n",
       "      <td>9315.0</td>\n",
       "      <td>3.7</td>\n",
       "      <td>0.338535</td>\n",
       "      <td>671</td>\n",
       "      <td>20494</td>\n",
       "      <td>1.63</td>\n",
       "      <td>0.148241</td>\n",
       "      <td>0.815505</td>\n",
       "      <td>...</td>\n",
       "      <td>0.040320</td>\n",
       "      <td>0.000000</td>\n",
       "      <td>0.454523</td>\n",
       "      <td>3037</td>\n",
       "      <td>213</td>\n",
       "      <td>2824</td>\n",
       "      <td>0.070135</td>\n",
       "      <td>758</td>\n",
       "      <td>1.866356e+07</td>\n",
       "      <td>0.075929</td>\n",
       "    </tr>\n",
       "  </tbody>\n",
       "</table>\n",
       "<p>159 rows × 49 columns</p>\n",
       "</div>"
      ],
      "text/plain": [
       "     CountyID  Total Establishments  Labor_Force  Unemployment Rate  \\\n",
       "0       13001                   437       9574.0                3.7   \n",
       "1       13003                   125       4584.0                3.2   \n",
       "2       13005                   270       4928.0                3.7   \n",
       "3       13007                    63       1229.0                4.4   \n",
       "4       13009                   859      18253.0                4.3   \n",
       "..        ...                   ...          ...                ...   \n",
       "154     13313                  2340      44176.0                3.9   \n",
       "155     13315                   110       2825.0                3.9   \n",
       "156     13317                   239       3826.0                5.5   \n",
       "157     13319                   171       3984.0                3.6   \n",
       "158     13321                   306       9315.0                3.7   \n",
       "\n",
       "     Commuter Ratio  Average Weekly Wages  Total Pop  \\\n",
       "0          0.761574                  1241      18440   \n",
       "1          0.502479                   712       8239   \n",
       "2          0.775601                   700      11201   \n",
       "3          0.373617                   714       3132   \n",
       "4          0.899468                   677      45111   \n",
       "..              ...                   ...        ...   \n",
       "154        1.333828                   900     104237   \n",
       "155        0.418939                   618       8824   \n",
       "156        0.727122                   669       9844   \n",
       "157        0.901067                   807       9010   \n",
       "158        0.338535                   671      20494   \n",
       "\n",
       "     Avg Total Working Adults/House  Self-Employment as % of Workforce  \\\n",
       "0                              1.74                           0.128298   \n",
       "1                              1.81                           0.125266   \n",
       "2                              1.83                           0.129900   \n",
       "3                              1.36                           0.164512   \n",
       "4                              1.95                           0.180389   \n",
       "..                              ...                                ...   \n",
       "154                            1.87                           0.139889   \n",
       "155                            2.36                           0.196286   \n",
       "156                            1.53                           0.172047   \n",
       "157                            1.79                           0.164576   \n",
       "158                            1.63                           0.148241   \n",
       "\n",
       "     Non-Employer Establishments as % of All Establishments  ...        92  \\\n",
       "0                                             0.728545       ...  0.018117   \n",
       "1                                             0.818444       ...  0.018684   \n",
       "2                                             0.700552       ...  0.002428   \n",
       "3                                             0.756863       ...  0.010941   \n",
       "4                                             0.788138       ...  0.027431   \n",
       "..                                                 ...       ...       ...   \n",
       "154                                           0.722327       ...  0.010449   \n",
       "155                                           0.824806       ...  0.005440   \n",
       "156                                           0.731762       ...  0.030022   \n",
       "157                                           0.794994       ...  0.000273   \n",
       "158                                           0.815505       ...  0.040320   \n",
       "\n",
       "           99  % of Total Population in the Labor Force  \\\n",
       "0    0.002376                                  0.519197   \n",
       "1    0.000406                                  0.556378   \n",
       "2    0.000000                                  0.439961   \n",
       "3    0.008753                                  0.392401   \n",
       "4    0.001610                                  0.404624   \n",
       "..        ...                                       ...   \n",
       "154  0.001226                                  0.423803   \n",
       "155  0.001813                                  0.320150   \n",
       "156  0.000000                                  0.388663   \n",
       "157  0.000000                                  0.442175   \n",
       "158  0.000000                                  0.454523   \n",
       "\n",
       "     March Employment Numbers  Jobs_Lost  April_Jobs  Job_Loss_Ratio  \\\n",
       "0                        7024        441        6583        0.062785   \n",
       "1                        2230        223        2007        0.100000   \n",
       "2                        3681        -46        3727       -0.012497   \n",
       "3                         439          7         432        0.015945   \n",
       "4                       15720       1485       14235        0.094466   \n",
       "..                        ...        ...         ...             ...   \n",
       "154                     56653       8868       47785        0.156532   \n",
       "155                      1137         36        1101        0.031662   \n",
       "156                      2630        210        2420        0.079848   \n",
       "157                      3461        416        3045        0.120196   \n",
       "158                      3037        213        2824        0.070135   \n",
       "\n",
       "     Number of Loans Received  Total Amt of Loans Received  NEE/Workforce  \n",
       "0                         776                 3.791913e+07       0.043361  \n",
       "1                         387                 1.850347e+07       0.043865  \n",
       "2                         589                 2.577633e+07       0.048874  \n",
       "3                         189                 4.090794e+06       0.097974  \n",
       "4                        1821                 5.967474e+07       0.041289  \n",
       "..                        ...                          ...            ...  \n",
       "154                      2311                 2.210168e+08       0.028971  \n",
       "155                       435                 8.267156e+06       0.073900  \n",
       "156                       400                 1.986119e+07       0.062352  \n",
       "157                       380                 1.748327e+07       0.037794  \n",
       "158                       758                 1.866356e+07       0.075929  \n",
       "\n",
       "[159 rows x 49 columns]"
      ]
     },
     "execution_count": 28,
     "metadata": {},
     "output_type": "execute_result"
    }
   ],
   "source": [
    "ppp"
   ]
  },
  {
   "cell_type": "code",
   "execution_count": 29,
   "id": "8cfc3571",
   "metadata": {},
   "outputs": [],
   "source": [
    "ppp['high dens'] = ppp['Total Pop'] > 500000"
   ]
  },
  {
   "cell_type": "code",
   "execution_count": 30,
   "id": "13ce7b89",
   "metadata": {},
   "outputs": [],
   "source": [
    "ppp['import'] = ppp['Commuter Ratio'] > 1"
   ]
  },
  {
   "cell_type": "code",
   "execution_count": 31,
   "id": "750c1159",
   "metadata": {},
   "outputs": [],
   "source": [
    "ppp['import'] = ppp['import'].astype(int)\n",
    "ppp['high dens'] = ppp['high dens'].astype(int)"
   ]
  },
  {
   "cell_type": "code",
   "execution_count": 32,
   "id": "85bf63b4",
   "metadata": {},
   "outputs": [],
   "source": [
    "x6 = ppp[['March Employment Numbers', 'NEE/Workforce', 'high dens']]\n",
    "model_plus_dens = LinearRegression().fit(x6, y)"
   ]
  },
  {
   "cell_type": "code",
   "execution_count": 33,
   "id": "83b394b5",
   "metadata": {},
   "outputs": [],
   "source": [
    "new_r2 = model_plus_dens.score(x6, y)\n",
    "new_pred = model_plus_dens.predict(x6)\n",
    "new_mape = metrics.mean_absolute_percentage_error(y, new_pred)"
   ]
  },
  {
   "cell_type": "code",
   "execution_count": 34,
   "id": "cfc5df44",
   "metadata": {},
   "outputs": [
    {
     "data": {
      "text/plain": [
       "0.9943908277381152"
      ]
     },
     "execution_count": 34,
     "metadata": {},
     "output_type": "execute_result"
    }
   ],
   "source": [
    "new_adj_r2 = 1 - (1-new_r2)*(len(y)-1)/(len(y)-x6.shape[1]-1)\n",
    "new_adj_r2"
   ]
  },
  {
   "cell_type": "code",
   "execution_count": 35,
   "id": "48cdf965",
   "metadata": {},
   "outputs": [
    {
     "data": {
      "text/plain": [
       "1.0980881177587987"
      ]
     },
     "execution_count": 35,
     "metadata": {},
     "output_type": "execute_result"
    }
   ],
   "source": [
    "new_mape"
   ]
  },
  {
   "cell_type": "code",
   "execution_count": 36,
   "id": "da1681da",
   "metadata": {},
   "outputs": [],
   "source": [
    "ppp['Employment*Dens'] = ppp['March Employment Numbers'] * ppp['high dens']"
   ]
  },
  {
   "cell_type": "code",
   "execution_count": 37,
   "id": "69425776",
   "metadata": {},
   "outputs": [],
   "source": [
    "ppp['NEE*Dens'] = ppp['NEE/Workforce'] * ppp['high dens']"
   ]
  },
  {
   "cell_type": "code",
   "execution_count": 38,
   "id": "3d5e5966",
   "metadata": {},
   "outputs": [],
   "source": [
    "x8 = ppp[['March Employment Numbers', 'NEE/Workforce', 'high dens', 'Employment*Dens']]"
   ]
  },
  {
   "cell_type": "code",
   "execution_count": 39,
   "id": "174232c3",
   "metadata": {},
   "outputs": [],
   "source": [
    "model_plus_interact = LinearRegression().fit(x8, y)"
   ]
  },
  {
   "cell_type": "code",
   "execution_count": 40,
   "id": "2aa0ac55",
   "metadata": {},
   "outputs": [],
   "source": [
    "new_r2 = model_plus_interact.score(x8, y)\n",
    "new_pred = model_plus_interact.predict(x8)\n",
    "new_mape = metrics.mean_absolute_percentage_error(y, new_pred)"
   ]
  },
  {
   "cell_type": "code",
   "execution_count": 42,
   "id": "3090b638",
   "metadata": {
    "scrolled": true
   },
   "outputs": [
    {
     "data": {
      "text/plain": [
       "0.9949242951121597"
      ]
     },
     "execution_count": 42,
     "metadata": {},
     "output_type": "execute_result"
    }
   ],
   "source": [
    "new_adj_r2 = 1 - (1-new_r2)*(len(y)-1)/(len(y)-x8.shape[1]-1)\n",
    "new_adj_r2"
   ]
  },
  {
   "cell_type": "code",
   "execution_count": 43,
   "id": "8cd6bbf9",
   "metadata": {},
   "outputs": [
    {
     "data": {
      "text/plain": [
       "0.8736190649165771"
      ]
     },
     "execution_count": 43,
     "metadata": {},
     "output_type": "execute_result"
    }
   ],
   "source": [
    "new_mape"
   ]
  },
  {
   "cell_type": "code",
   "execution_count": 45,
   "id": "781646f0",
   "metadata": {},
   "outputs": [],
   "source": [
    "x7 = ppp[['March Employment Numbers', 'NEE/Workforce', 'high dens', 'NEE*Dens', 'Employment*Dens']]\n",
    "model_plus_import = LinearRegression().fit(x7, y)"
   ]
  },
  {
   "cell_type": "code",
   "execution_count": 46,
   "id": "d83dd449",
   "metadata": {},
   "outputs": [],
   "source": [
    "new_r2 = model_plus_import.score(x7, y)\n",
    "new_pred = model_plus_import.predict(x7)\n",
    "new_mape = metrics.mean_absolute_percentage_error(y, new_pred)"
   ]
  },
  {
   "cell_type": "code",
   "execution_count": 47,
   "id": "fcac560a",
   "metadata": {
    "scrolled": true
   },
   "outputs": [
    {
     "data": {
      "text/plain": [
       "0.9955975504010538"
      ]
     },
     "execution_count": 47,
     "metadata": {},
     "output_type": "execute_result"
    }
   ],
   "source": [
    "new_adj_r2 = 1 - (1-new_r2)*(len(y)-1)/(len(y)-x7.shape[1]-1)\n",
    "new_adj_r2"
   ]
  },
  {
   "cell_type": "code",
   "execution_count": 48,
   "id": "fa24778d",
   "metadata": {},
   "outputs": [
    {
     "data": {
      "text/plain": [
       "0.8180709346983837"
      ]
     },
     "execution_count": 48,
     "metadata": {},
     "output_type": "execute_result"
    }
   ],
   "source": [
    "new_mape"
   ]
  },
  {
   "cell_type": "code",
   "execution_count": 58,
   "id": "b43748eb",
   "metadata": {
    "scrolled": true
   },
   "outputs": [
    {
     "data": {
      "text/plain": [
       "<matplotlib.collections.PathCollection at 0x7ff41ef52940>"
      ]
     },
     "execution_count": 58,
     "metadata": {},
     "output_type": "execute_result"
    },
    {
     "data": {
      "image/png": "[encoded data removed]",
      "text/plain": [
       "<Figure size 720x720 with 1 Axes>"
      ]
     },
     "metadata": {
      "needs_background": "light"
     },
     "output_type": "display_data"
    }
   ],
   "source": [
    "import matplotlib.pyplot as plt\n",
    "plt.figure(figsize = (10, 10))\n",
    "plt.scatter(y, new_pred, c = 'crimson')\n"
   ]
  },
  {
   "cell_type": "code",
   "execution_count": 52,
   "id": "bddfdfb7",
   "metadata": {},
   "outputs": [],
   "source": [
    "per_error = []\n",
    "for i in range(len(y)):\n",
    "    per_error.append((y[i] - new_pred[i])/y[i])"
   ]
  },
  {
   "cell_type": "code",
   "execution_count": 61,
   "id": "26717b7a",
   "metadata": {},
   "outputs": [],
   "source": [
    "resid = []\n",
    "for i in range(len(y)):\n",
    "    resid.append(y[i] - new_pred[i])"
   ]
  },
  {
   "cell_type": "code",
   "execution_count": 63,
   "id": "f4ac69ab",
   "metadata": {},
   "outputs": [
    {
     "data": {
      "text/plain": [
       "0.8180709346983838"
      ]
     },
     "execution_count": 63,
     "metadata": {},
     "output_type": "execute_result"
    }
   ],
   "source": [
    "abs_per_error = map(abs,per_error)\n",
    "import statistics as stat\n",
    "stat.mean(abs_per_error)"
   ]
  },
  {
   "cell_type": "code",
   "execution_count": 74,
   "id": "f46b7ecc",
   "metadata": {},
   "outputs": [
    {
     "data": {
      "text/plain": [
       "9.35848982209575"
      ]
     },
     "execution_count": 74,
     "metadata": {},
     "output_type": "execute_result"
    }
   ],
   "source": [
    "import numpy as np\n",
    "arr = np.array(per_error)\n",
    "abs_array = np.absolute(arr)\n",
    "np.percentile(abs_array, 99)"
   ]
  },
  {
   "cell_type": "code",
   "execution_count": 101,
   "id": "9d1eff16",
   "metadata": {},
   "outputs": [
    {
     "data": {
      "image/png": "[encoded data removed]",
      "text/plain": [
       "<Figure size 864x432 with 3 Axes>"
      ]
     },
     "metadata": {
      "needs_background": "light"
     },
     "output_type": "display_data"
    }
   ],
   "source": [
    "import scipy.stats as stats\n",
    "import matplotlib.pyplot as plt\n",
    "\n",
    "#check scatterplots of included variables to see what the issue might be \n",
    "\n",
    "fig, (ax1, ax2, ax3) = plt.subplots(1, 3, figsize=(12,6))\n",
    "\n",
    "# Plot the first scatterplot\n",
    "slope, intercept, r_value, p_value, std_err = stats.linregress(x7.iloc[:, 0], y)\n",
    "line = slope * x7.iloc[:, 0] + intercept\n",
    "ax1.scatter(x7.iloc[:, 0], y)\n",
    "ax1.plot(x7.iloc[:, 0], line, color='red')\n",
    "ax1.set_xlabel('March Employment Numbers')\n",
    "ax1.set_ylabel('Total Loan Amount')\n",
    "\n",
    "# Plot the second scatterplot\n",
    "slope, intercept, r_value, p_value, std_err = stats.linregress(x7.iloc[:, 1], y)\n",
    "line = slope * x7.iloc[:, 1] + intercept\n",
    "ax2.scatter(x7.iloc[:, 1], y)\n",
    "ax2.plot(x7.iloc[:, 1], line, color='red')\n",
    "ax2.set_xlabel('NEE as % of Workforce')\n",
    "ax2.set_ylabel('Total Loan Amount')\n",
    "\n",
    "# Plot the third scatterplot\n",
    "slope, intercept, r_value, p_value, std_err = stats.linregress(x7.iloc[:, 2], y)\n",
    "line = slope * x7.iloc[:, 2] + intercept\n",
    "ax3.scatter(x7.iloc[:, 2], y)\n",
    "ax3.plot(x7.iloc[:, 2], line, color='red')\n",
    "ax3.set_xlabel('High Density')\n",
    "ax3.set_ylabel('Total Loan Amount')\n",
    "\n",
    "\n",
    "\n",
    "# Show the plots\n",
    "plt.show()"
   ]
  },
  {
   "cell_type": "code",
   "execution_count": 7,
   "id": "619e2959",
   "metadata": {},
   "outputs": [
    {
     "data": {
      "text/html": [
       "<div>\n",
       "<style scoped>\n",
       "    .dataframe tbody tr th:only-of-type {\n",
       "        vertical-align: middle;\n",
       "    }\n",
       "\n",
       "    .dataframe tbody tr th {\n",
       "        vertical-align: top;\n",
       "    }\n",
       "\n",
       "    .dataframe thead th {\n",
       "        text-align: right;\n",
       "    }\n",
       "</style>\n",
       "<table border=\"1\" class=\"dataframe\">\n",
       "  <thead>\n",
       "    <tr style=\"text-align: right;\">\n",
       "      <th></th>\n",
       "      <th>CountyID</th>\n",
       "      <th>Total Establishments</th>\n",
       "      <th>Labor_Force</th>\n",
       "      <th>Unemployment Rate</th>\n",
       "      <th>Commuter Ratio</th>\n",
       "      <th>Average Weekly Wages</th>\n",
       "      <th>Total Pop</th>\n",
       "      <th>Avg Total Working Adults/House</th>\n",
       "      <th>Self-Employment as % of Workforce</th>\n",
       "      <th>Non-Employer Establishments as % of All Establishments</th>\n",
       "      <th>...</th>\n",
       "      <th>81</th>\n",
       "      <th>92</th>\n",
       "      <th>99</th>\n",
       "      <th>% of Total Population in the Labor Force</th>\n",
       "      <th>March Employment Numbers</th>\n",
       "      <th>Jobs_Lost</th>\n",
       "      <th>April_Jobs</th>\n",
       "      <th>Job_Loss_Ratio</th>\n",
       "      <th>Number of Loans Received</th>\n",
       "      <th>Total Amt of Loans Received</th>\n",
       "    </tr>\n",
       "  </thead>\n",
       "  <tbody>\n",
       "    <tr>\n",
       "      <th>59</th>\n",
       "      <td>13121</td>\n",
       "      <td>46399</td>\n",
       "      <td>569635.0</td>\n",
       "      <td>3.5</td>\n",
       "      <td>1.642852</td>\n",
       "      <td>1791</td>\n",
       "      <td>1036200</td>\n",
       "      <td>1.75</td>\n",
       "      <td>0.206814</td>\n",
       "      <td>0.710191</td>\n",
       "      <td>...</td>\n",
       "      <td>0.027953</td>\n",
       "      <td>0.018196</td>\n",
       "      <td>0.002314</td>\n",
       "      <td>0.549735</td>\n",
       "      <td>903424</td>\n",
       "      <td>120977</td>\n",
       "      <td>782447</td>\n",
       "      <td>0.133909</td>\n",
       "      <td>102263</td>\n",
       "      <td>5.777318e+09</td>\n",
       "    </tr>\n",
       "  </tbody>\n",
       "</table>\n",
       "<p>1 rows × 48 columns</p>\n",
       "</div>"
      ],
      "text/plain": [
       "    CountyID  Total Establishments  Labor_Force  Unemployment Rate  \\\n",
       "59     13121                 46399     569635.0                3.5   \n",
       "\n",
       "    Commuter Ratio  Average Weekly Wages  Total Pop  \\\n",
       "59        1.642852                  1791    1036200   \n",
       "\n",
       "    Avg Total Working Adults/House  Self-Employment as % of Workforce  \\\n",
       "59                            1.75                           0.206814   \n",
       "\n",
       "    Non-Employer Establishments as % of All Establishments  ...        81  \\\n",
       "59                                           0.710191       ...  0.027953   \n",
       "\n",
       "          92        99  % of Total Population in the Labor Force  \\\n",
       "59  0.018196  0.002314                                  0.549735   \n",
       "\n",
       "    March Employment Numbers  Jobs_Lost  April_Jobs  Job_Loss_Ratio  \\\n",
       "59                    903424     120977      782447        0.133909   \n",
       "\n",
       "    Number of Loans Received  Total Amt of Loans Received  \n",
       "59                    102263                 5.777318e+09  \n",
       "\n",
       "[1 rows x 48 columns]"
      ]
     },
     "execution_count": 7,
     "metadata": {},
     "output_type": "execute_result"
    }
   ],
   "source": [
    "ppp[ppp['Total Pop'] > 1000000]"
   ]
  },
  {
   "cell_type": "code",
   "execution_count": 75,
   "id": "8923c81b",
   "metadata": {},
   "outputs": [],
   "source": [
    "small_counties = ppp[ppp['high dens'] == 0]\n",
    "large_counties = ppp[ppp['high dens'] == 1]"
   ]
  },
  {
   "cell_type": "code",
   "execution_count": 76,
   "id": "96671c23",
   "metadata": {},
   "outputs": [],
   "source": [
    "x_small = small_counties[['March Employment Numbers', 'NEE/Workforce']]\n",
    "y_small = small_counties['Total Amt of Loans Received']"
   ]
  },
  {
   "cell_type": "code",
   "execution_count": 77,
   "id": "c3bc942b",
   "metadata": {},
   "outputs": [],
   "source": [
    "x_large = large_counties[['March Employment Numbers', 'NEE/Workforce']]\n",
    "y_large = large_counties['Total Amt of Loans Received']"
   ]
  },
  {
   "cell_type": "code",
   "execution_count": 78,
   "id": "0b208c42",
   "metadata": {},
   "outputs": [],
   "source": [
    "small_model = LinearRegression().fit(x_small, y_small)\n",
    "large_model = LinearRegression().fit(x_large, y_large)"
   ]
  },
  {
   "cell_type": "code",
   "execution_count": 79,
   "id": "0b372882",
   "metadata": {},
   "outputs": [],
   "source": [
    "r2_small = small_model.score(x_small, y_small)\n",
    "small_pred = small_model.predict(x_small)\n",
    "small_mape = metrics.mean_absolute_percentage_error(y_small, small_pred)"
   ]
  },
  {
   "cell_type": "code",
   "execution_count": 80,
   "id": "dcebb137",
   "metadata": {
    "scrolled": true
   },
   "outputs": [
    {
     "data": {
      "text/plain": [
       "0.8385278819679605"
      ]
     },
     "execution_count": 80,
     "metadata": {},
     "output_type": "execute_result"
    }
   ],
   "source": [
    "small_mape"
   ]
  },
  {
   "cell_type": "code",
   "execution_count": 81,
   "id": "177d0fbe",
   "metadata": {},
   "outputs": [],
   "source": [
    "r2_large = large_model.score(x_large, y_large)\n",
    "large_pred = large_model.predict(x_large)\n",
    "large_mape = metrics.mean_absolute_percentage_error(y_large, large_pred)"
   ]
  },
  {
   "cell_type": "code",
   "execution_count": 82,
   "id": "879d9157",
   "metadata": {},
   "outputs": [
    {
     "data": {
      "text/plain": [
       "0.025364216293051616"
      ]
     },
     "execution_count": 82,
     "metadata": {},
     "output_type": "execute_result"
    }
   ],
   "source": [
    "large_mape"
   ]
  },
  {
   "cell_type": "code",
   "execution_count": 84,
   "id": "94348716",
   "metadata": {},
   "outputs": [],
   "source": [
    "sorted_array = np.sort(abs_array)"
   ]
  },
  {
   "cell_type": "code",
   "execution_count": 85,
   "id": "136985ea",
   "metadata": {},
   "outputs": [
    {
     "data": {
      "text/plain": [
       "array([1.13433033e-03, 2.45325311e-03, 3.58531072e-03, 8.74877073e-03,\n",
       "       1.27722876e-02, 1.81810716e-02, 2.93948383e-02, 3.00831754e-02,\n",
       "       3.39080662e-02, 3.52686700e-02, 3.79229845e-02, 3.94240394e-02,\n",
       "       4.38048876e-02, 4.42987442e-02, 4.73610355e-02, 4.85982649e-02,\n",
       "       4.92710169e-02, 4.93237013e-02, 5.25091703e-02, 5.90852333e-02,\n",
       "       5.97412304e-02, 6.49560566e-02, 6.52886452e-02, 6.85920011e-02,\n",
       "       7.03858341e-02, 7.83218468e-02, 8.23989449e-02, 8.47242286e-02,\n",
       "       8.83626818e-02, 9.56636673e-02, 9.59658049e-02, 9.74251213e-02,\n",
       "       1.00019844e-01, 1.00568594e-01, 1.01991349e-01, 1.02295745e-01,\n",
       "       1.04589298e-01, 1.06270383e-01, 1.08810844e-01, 1.15595090e-01,\n",
       "       1.21360103e-01, 1.26159110e-01, 1.33223349e-01, 1.34497998e-01,\n",
       "       1.34783380e-01, 1.34851712e-01, 1.37253593e-01, 1.41765502e-01,\n",
       "       1.42433032e-01, 1.54140860e-01, 1.54976028e-01, 1.55635154e-01,\n",
       "       1.56628029e-01, 1.57326791e-01, 1.58627097e-01, 1.63886599e-01,\n",
       "       1.67082578e-01, 1.68748548e-01, 1.74097930e-01, 1.74706384e-01,\n",
       "       1.75968649e-01, 1.81560690e-01, 1.83177908e-01, 1.90641641e-01,\n",
       "       1.91640653e-01, 1.98228073e-01, 2.04498184e-01, 2.11972927e-01,\n",
       "       2.15224443e-01, 2.18459287e-01, 2.19664652e-01, 2.21920284e-01,\n",
       "       2.29679163e-01, 2.30290189e-01, 2.38299616e-01, 2.46746322e-01,\n",
       "       2.47264548e-01, 2.52932521e-01, 2.76906676e-01, 2.78407954e-01,\n",
       "       2.79620250e-01, 2.80216981e-01, 2.80710160e-01, 2.84416302e-01,\n",
       "       3.05050559e-01, 3.07562884e-01, 3.11579137e-01, 3.14102533e-01,\n",
       "       3.14590688e-01, 3.15798763e-01, 3.18962501e-01, 3.26287309e-01,\n",
       "       3.29372187e-01, 3.33586755e-01, 3.41467805e-01, 3.46676930e-01,\n",
       "       3.50558072e-01, 3.58360649e-01, 3.58606605e-01, 3.68804566e-01,\n",
       "       3.69284393e-01, 3.73891062e-01, 3.94691205e-01, 3.96221119e-01,\n",
       "       3.96260294e-01, 4.08652144e-01, 4.13609059e-01, 4.28168311e-01,\n",
       "       4.89586468e-01, 4.95235349e-01, 5.01282572e-01, 5.03380728e-01,\n",
       "       5.18574400e-01, 5.19587929e-01, 5.22329713e-01, 5.29095450e-01,\n",
       "       5.47127051e-01, 5.58827581e-01, 6.01235052e-01, 6.03826630e-01,\n",
       "       6.13835581e-01, 6.22015426e-01, 6.43763548e-01, 6.58972597e-01,\n",
       "       6.62876862e-01, 6.67959659e-01, 6.76609332e-01, 7.30658502e-01,\n",
       "       7.33517190e-01, 8.15572475e-01, 8.22089798e-01, 8.49992322e-01,\n",
       "       9.02015144e-01, 9.18673107e-01, 9.20920187e-01, 9.21231794e-01,\n",
       "       9.31114076e-01, 9.35001333e-01, 9.97478343e-01, 1.01464065e+00,\n",
       "       1.01882500e+00, 1.02145250e+00, 1.04576465e+00, 1.23262895e+00,\n",
       "       1.30752912e+00, 1.41244144e+00, 1.48860271e+00, 1.67662045e+00,\n",
       "       1.68747790e+00, 2.68942861e+00, 2.69611957e+00, 2.86804181e+00,\n",
       "       3.21364289e+00, 3.77579995e+00, 4.61427457e+00, 6.27098508e+00,\n",
       "       7.34527063e+00, 1.21386497e+01, 3.06888228e+01])"
      ]
     },
     "execution_count": 85,
     "metadata": {},
     "output_type": "execute_result"
    }
   ],
   "source": [
    "sorted_array"
   ]
  },
  {
   "cell_type": "code",
   "execution_count": 86,
   "id": "2f5a7dc5",
   "metadata": {},
   "outputs": [],
   "source": [
    "from sklearn.ensemble import RandomForestRegressor\n",
    "rf_model = RandomForestRegressor().fit(x7, y)\n",
    "rf_pred = rf_model.predict(x7)\n",
    "rf_mape = metrics.mean_absolute_percentage_error(y, rf_pred)"
   ]
  },
  {
   "cell_type": "code",
   "execution_count": 87,
   "id": "9d4c6cc4",
   "metadata": {},
   "outputs": [
    {
     "data": {
      "text/plain": [
       "0.13213740589582024"
      ]
     },
     "execution_count": 87,
     "metadata": {},
     "output_type": "execute_result"
    }
   ],
   "source": [
    "rf_mape"
   ]
  },
  {
   "cell_type": "code",
   "execution_count": 107,
   "id": "16e8ba3b",
   "metadata": {},
   "outputs": [],
   "source": [
    "rf = RandomForestRegressor()\n",
    "reg = LinearRegression()\n",
    "rfscore = cross_val_score(rf, x7, y, scoring='neg_mean_absolute_percentage_error', cv=159)\n",
    "regscore = cross_val_score(reg, x7, y, scoring='neg_mean_absolute_percentage_error', cv=159)\n"
   ]
  },
  {
   "cell_type": "code",
   "execution_count": 108,
   "id": "577c4420",
   "metadata": {},
   "outputs": [
    {
     "data": {
      "text/plain": [
       "-0.3635955969088965"
      ]
     },
     "execution_count": 108,
     "metadata": {},
     "output_type": "execute_result"
    }
   ],
   "source": [
    "import statistics as stat\n",
    "stat.mean(rfscore)"
   ]
  },
  {
   "cell_type": "code",
   "execution_count": 109,
   "id": "fc613fbb",
   "metadata": {},
   "outputs": [
    {
     "data": {
      "text/plain": [
       "-0.8635803189405229"
      ]
     },
     "execution_count": 109,
     "metadata": {},
     "output_type": "execute_result"
    }
   ],
   "source": [
    "stat.mean(regscore)"
   ]
  },
  {
   "cell_type": "code",
   "execution_count": 110,
   "id": "ba0718f3",
   "metadata": {
    "scrolled": true
   },
   "outputs": [
    {
     "data": {
      "image/png": "[encoded data removed]",
      "text/plain": [
       "<Figure size 432x288 with 1 Axes>"
      ]
     },
     "metadata": {
      "needs_background": "light"
     },
     "output_type": "display_data"
    }
   ],
   "source": [
    "# Create a residuals vs. fitted values plot\n",
    "\n",
    "fig, ax = plt.subplots()\n",
    "ax.scatter(new_pred, resid)\n",
    "ax.axhline(y=0, color='r', linestyle='-')\n",
    "ax.set_xlabel('Fitted Values')\n",
    "ax.set_ylabel('Residuals')\n",
    "ax.set_title('Residuals vs. Fitted Values Plot')\n",
    "plt.show()"
   ]
  },
  {
   "cell_type": "code",
   "execution_count": 111,
   "id": "13d40c61",
   "metadata": {},
   "outputs": [],
   "source": [
    "rf_resid = []\n",
    "for i in range(len(y)):\n",
    "    rf_resid.append(y[i] - rf_pred[i])"
   ]
  },
  {
   "cell_type": "code",
   "execution_count": 112,
   "id": "5de85e9c",
   "metadata": {},
   "outputs": [
    {
     "data": {
      "image/png": "[encoded data removed]",
      "text/plain": [
       "<Figure size 432x288 with 1 Axes>"
      ]
     },
     "metadata": {
      "needs_background": "light"
     },
     "output_type": "display_data"
    }
   ],
   "source": [
    "# Create a residuals vs. fitted values plot\n",
    "\n",
    "fig, ax = plt.subplots()\n",
    "ax.scatter(rf_pred, rf_resid)\n",
    "ax.axhline(y=0, color='r', linestyle='-')\n",
    "ax.set_xlabel('Fitted Values')\n",
    "ax.set_ylabel('Residuals')\n",
    "ax.set_title('Residuals vs. Fitted Values Plot')\n",
    "plt.show()"
   ]
  },
  {
   "cell_type": "code",
   "execution_count": 116,
   "id": "e9565a2f",
   "metadata": {},
   "outputs": [],
   "source": [
    "rf_model_large = RandomForestRegressor().fit(x_large, y_large)\n",
    "reg_model_large = LinearRegression().fit(x_large, y_large)\n",
    "rf_model_small = RandomForestRegressor().fit(x_small, y_small)\n",
    "reg_model_small = LinearRegression().fit(x_small, y_small)"
   ]
  },
  {
   "cell_type": "code",
   "execution_count": 132,
   "id": "83bacbbe",
   "metadata": {},
   "outputs": [
    {
     "data": {
      "text/plain": [
       "<matplotlib.lines._AxLine at 0x7ff402e90be0>"
      ]
     },
     "execution_count": 132,
     "metadata": {},
     "output_type": "execute_result"
    },
    {
     "data": {
      "image/png": "[encoded data removed]",
      "text/plain": [
       "<Figure size 432x288 with 1 Axes>"
      ]
     },
     "metadata": {
      "needs_background": "light"
     },
     "output_type": "display_data"
    }
   ],
   "source": [
    "fig, ax = plt.subplots()\n",
    "ax.scatter(rf_pred/1000000000, y/1000000000)\n",
    "ax.set_xlabel('Predicted Loan Amount (Billions)')\n",
    "ax.set_ylabel('Actual Loan Amount (Billions)') \n",
    "ax.set_xlim(0, 6)\n",
    "ax.set_ylim(0, 6)\n",
    "ax.axline((0, 0), slope=1, color = 'red')"
   ]
  },
  {
   "cell_type": "code",
   "execution_count": 133,
   "id": "7d75594f",
   "metadata": {},
   "outputs": [
    {
     "data": {
      "text/plain": [
       "<matplotlib.lines._AxLine at 0x7ff402ff6af0>"
      ]
     },
     "execution_count": 133,
     "metadata": {},
     "output_type": "execute_result"
    },
    {
     "data": {
      "image/png": "[encoded data removed]",
      "text/plain": [
       "<Figure size 432x288 with 1 Axes>"
      ]
     },
     "metadata": {
      "needs_background": "light"
     },
     "output_type": "display_data"
    }
   ],
   "source": [
    "fig, ax = plt.subplots()\n",
    "ax.scatter(new_pred/1000000000, y/1000000000)\n",
    "ax.set_xlabel('Predicted Loan Amount (Billions)')\n",
    "ax.set_ylabel('Actual Loan Amount (Billions)') \n",
    "ax.set_xlim(0, 6)\n",
    "ax.set_ylim(0, 6)\n",
    "ax.axline((0, 0), slope=1, color = 'red')"
   ]
  },
  {
   "cell_type": "code",
   "execution_count": 117,
   "id": "62867309",
   "metadata": {},
   "outputs": [],
   "source": [
    "rf_large_pred = rf_model_large.predict(x_large)\n",
    "reg_large_pred = reg_model_large.predict(x_large)\n",
    "rf_small_pred = rf_model_small.predict(x_small)\n",
    "reg_small_pred = reg_model_small.predict(x_small)\n",
    "rf_mape_large = metrics.mean_absolute_percentage_error(y_large, rf_large_pred)\n",
    "reg_mape_large = metrics.mean_absolute_percentage_error(y_large, reg_large_pred)\n",
    "rf_mape_small = metrics.mean_absolute_percentage_error(y_small, rf_small_pred)\n",
    "reg_mape_small = metrics.mean_absolute_percentage_error(y_small, reg_small_pred)\n",
    "\n"
   ]
  },
  {
   "cell_type": "code",
   "execution_count": 121,
   "id": "ac2d77f4",
   "metadata": {},
   "outputs": [
    {
     "data": {
      "text/plain": [
       "0.07013173843249415"
      ]
     },
     "execution_count": 121,
     "metadata": {},
     "output_type": "execute_result"
    }
   ],
   "source": [
    "rf_mape_large"
   ]
  },
  {
   "cell_type": "code",
   "execution_count": null,
   "id": "bf74f01e",
   "metadata": {},
   "outputs": [],
   "source": []
  }
 ],
 "metadata": {
  "kernelspec": {
   "display_name": "Python 3 (ipykernel)",
   "language": "python",
   "name": "python3"
  },
  "language_info": {
   "codemirror_mode": {
    "name": "ipython",
    "version": 3
   },
   "file_extension": ".py",
   "mimetype": "text/x-python",
   "name": "python",
   "nbconvert_exporter": "python",
   "pygments_lexer": "ipython3",
   "version": "3.9.12"
  }
 },
 "nbformat": 4,
 "nbformat_minor": 5
}
